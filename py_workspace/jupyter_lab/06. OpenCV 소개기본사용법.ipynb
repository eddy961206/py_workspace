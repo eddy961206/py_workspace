{
 "cells": [
  {
   "cell_type": "markdown",
   "id": "09ee1687-c3a6-4f27-bbf4-2e0c0367dded",
   "metadata": {},
   "source": [
    "# OpenCV 소개 및 기본 사용법"
   ]
  },
  {
   "cell_type": "code",
   "execution_count": 1,
   "id": "812b65a9-7b99-4e65-b85f-40a0a0e9850e",
   "metadata": {},
   "outputs": [],
   "source": [
    "import cv2"
   ]
  },
  {
   "cell_type": "code",
   "execution_count": 2,
   "id": "1cae5efb-9207-4c74-bb6c-bb7e9e6b1be9",
   "metadata": {},
   "outputs": [
    {
     "data": {
      "text/plain": [
       "True"
      ]
     },
     "execution_count": 2,
     "metadata": {},
     "output_type": "execute_result"
    }
   ],
   "source": [
    "img_basic = cv2.imread('2.jpg', cv2.IMREAD_COLOR)\n",
    "cv2.imshow('Image Basic', img_basic)\n",
    "cv2.waitKey(0)\n",
    "cv2.imwrite('result1.png', img_basic)     # cv2.imwrite :  이미지 저장"
   ]
  },
  {
   "cell_type": "code",
   "execution_count": 3,
   "id": "d7451230-ab0a-4818-83dc-ace2585c83a6",
   "metadata": {},
   "outputs": [],
   "source": [
    "cv2.destroyAllWindows()"
   ]
  },
  {
   "cell_type": "code",
   "execution_count": 4,
   "id": "4dd7bef0-973c-48b0-a3fa-c489b30d639d",
   "metadata": {},
   "outputs": [
    {
     "data": {
      "text/plain": [
       "True"
      ]
     },
     "execution_count": 4,
     "metadata": {},
     "output_type": "execute_result"
    }
   ],
   "source": [
    "img_gray = cv2.cvtColor(img_basic, cv2.COLOR_BGR2GRAY)\n",
    "cv2.imshow('Image Gray', img_gray)\n",
    "cv2.waitKey(0)\n",
    "cv2.imwrite('result2.png', img_gray)"
   ]
  },
  {
   "cell_type": "code",
   "execution_count": null,
   "id": "64ee4983-b9dc-4787-895e-87682dce062f",
   "metadata": {},
   "outputs": [],
   "source": []
  }
 ],
 "metadata": {
  "kernelspec": {
   "display_name": "Python 3 (ipykernel)",
   "language": "python",
   "name": "python3"
  },
  "language_info": {
   "codemirror_mode": {
    "name": "ipython",
    "version": 3
   },
   "file_extension": ".py",
   "mimetype": "text/x-python",
   "name": "python",
   "nbconvert_exporter": "python",
   "pygments_lexer": "ipython3",
   "version": "3.9.16"
  }
 },
 "nbformat": 4,
 "nbformat_minor": 5
}
