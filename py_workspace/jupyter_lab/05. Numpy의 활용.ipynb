{
 "cells": [
  {
   "cell_type": "code",
   "execution_count": 1,
   "id": "90bb029a-20de-48d9-9723-b539a865ce57",
   "metadata": {},
   "outputs": [],
   "source": [
    "import numpy as np"
   ]
  },
  {
   "cell_type": "markdown",
   "id": "5bf42061-33c6-4654-921d-4b987f76dd33",
   "metadata": {},
   "source": [
    "# Numpy의 활용"
   ]
  },
  {
   "cell_type": "markdown",
   "id": "44dbc7ab-1d47-4867-9163-bd2427004ca2",
   "metadata": {
    "tags": []
   },
   "source": [
    "### 단일 객체 저장 및 불러오기"
   ]
  },
  {
   "cell_type": "code",
   "execution_count": 2,
   "id": "a280a4ec-5d45-4227-998d-da1ab32daf2a",
   "metadata": {},
   "outputs": [
    {
     "name": "stdout",
     "output_type": "stream",
     "text": [
      "[0 1 2 3 4 5 6 7 8 9]\n"
     ]
    }
   ],
   "source": [
    "array = np.arange(0, 10)\n",
    "np.save('saved.npy', array)  # 저장\n",
    "\n",
    "result = np.load('saved.npy')  # 불러오기\n",
    "print(result)"
   ]
  },
  {
   "cell_type": "markdown",
   "id": "27cba66e-fb12-49c8-b6fa-84e52b627a87",
   "metadata": {
    "tags": []
   },
   "source": [
    "### 복수 객체 저장 및 불러오기"
   ]
  },
  {
   "cell_type": "code",
   "execution_count": 3,
   "id": "ef2f8889-f49a-41cd-98f4-7b358c25b2b0",
   "metadata": {},
   "outputs": [
    {
     "name": "stdout",
     "output_type": "stream",
     "text": [
      "[0 1 2 3 4 5 6 7 8 9]\n",
      "[10 11 12 13 14 15 16 17 18 19]\n"
     ]
    }
   ],
   "source": [
    "array1 = np.arange(0, 10)\n",
    "array2 = np.arange(10, 20)\n",
    "np.savez('saved.npz', array1=array1, array2=array2)  # 저장\n",
    "\n",
    "data = np.load('saved.npz')   # 불러오기\n",
    "result1 = data['array1']\n",
    "result2 = data['array2']\n",
    "print(result1)\n",
    "print(result2)"
   ]
  },
  {
   "cell_type": "markdown",
   "id": "5454ee38-9d55-4379-95d8-699432a993af",
   "metadata": {
    "tags": []
   },
   "source": [
    "### 정렬"
   ]
  },
  {
   "cell_type": "code",
   "execution_count": 18,
   "id": "3c93d18c-ac59-44e7-bffd-944fabcfe4b4",
   "metadata": {},
   "outputs": [
    {
     "name": "stdout",
     "output_type": "stream",
     "text": [
      "[ 1  3  5  9 10] \n",
      "\n",
      "[10  9  5  3  1] \n",
      "\n",
      "[[ 5  9 10  3  1]\n",
      " [ 8  3  4  2  5]] \n",
      "\n",
      "[[ 5  3  4  2  1]\n",
      " [ 8  9 10  3  5]]\n"
     ]
    }
   ],
   "source": [
    "# Numpy 원소 오름차순 정렬\n",
    "array = np.array([5, 9, 10, 3, 1])\n",
    "array.sort()\n",
    "print(array,\"\\n\")\n",
    "\n",
    "# Numpy 원소 내림차순 정렬\n",
    "array = np.array([5, 9, 10, 3, 1])\n",
    "array.sort()\n",
    "print(array[::-1],\"\\n\")\n",
    "\n",
    "# 각 열을 기준으로 정렬\n",
    "array = np.array([[5, 9, 10, 3, 1], [8, 3, 4, 2, 5]])\n",
    "print(array,\"\\n\")\n",
    "array.sort(axis=0) # 기준이 행(axis=0). 만약 axis=1이면 열이 기준.\n",
    "print(array) # 큰 애들이 아래 행으로 다 내려옴. (위의 행부터 오름차순 정렬)"
   ]
  },
  {
   "cell_type": "markdown",
   "id": "af024008-53b7-4a8c-9ea5-7f63d8c04257",
   "metadata": {},
   "source": [
    "### Numpy 관련 자주 사용되는 함수"
   ]
  },
  {
   "cell_type": "code",
   "execution_count": 32,
   "id": "bc49e278-95f7-4967-8fa2-52c24bd1cd6e",
   "metadata": {},
   "outputs": [
    {
     "name": "stdout",
     "output_type": "stream",
     "text": [
      "[ 0.   2.5  5.   7.5 10. ] \n",
      "\n",
      "[[3 4 1]\n",
      " [9 5 8]]\n"
     ]
    }
   ],
   "source": [
    "# 균일한 간격으로 데이터 생성\n",
    "array = np.linspace(0, 10, 5)\n",
    "print(array ,\"\\n\")\n",
    "\n",
    "# 난수의 재연(실행마다 결과 동일)\n",
    "np.random.seed(8)  # seed안에 숫자만 안바뀌면 난수도 바뀌지 않음\n",
    "print(np.random.randint(0, 10, (2, 3)))"
   ]
  },
  {
   "cell_type": "code",
   "execution_count": 31,
   "id": "91bc6876-9bc5-46f1-85ce-b0032d6554c6",
   "metadata": {},
   "outputs": [
    {
     "name": "stdout",
     "output_type": "stream",
     "text": [
      "[0 1 2 3 4 5 6 7 8 9] \n",
      "\n",
      "[1 2 3]\n"
     ]
    }
   ],
   "source": [
    "# Numpy 배열 객체 복사\n",
    "array1 = np.arange(0, 10)\n",
    "array2 = array1.copy() # copy() 안하고 그냥 array2 = array1으로 하면 주소가 동일하기 때문에 array2를 바꾸면 원본인 array1도 같이 바뀜\n",
    "print(array2 ,\"\\n\")\n",
    "\n",
    "# 중복된 원소 제거\n",
    "array = np.array([1, 1, 2, 3, 3, 3, 1])\n",
    "print(np.unique(array))"
   ]
  }
 ],
 "metadata": {
  "kernelspec": {
   "display_name": "Python 3 (ipykernel)",
   "language": "python",
   "name": "python3"
  },
  "language_info": {
   "codemirror_mode": {
    "name": "ipython",
    "version": 3
   },
   "file_extension": ".py",
   "mimetype": "text/x-python",
   "name": "python",
   "nbconvert_exporter": "python",
   "pygments_lexer": "ipython3",
   "version": "3.9.16"
  }
 },
 "nbformat": 4,
 "nbformat_minor": 5
}
