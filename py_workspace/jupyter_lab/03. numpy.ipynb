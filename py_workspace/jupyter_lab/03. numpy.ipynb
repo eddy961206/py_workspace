{
 "cells": [
  {
   "cell_type": "code",
   "execution_count": 1,
   "id": "c1611350-808e-4001-97dd-e492bd7fd114",
   "metadata": {},
   "outputs": [],
   "source": [
    "%config Completer.use_jedi = False"
   ]
  },
  {
   "cell_type": "code",
   "execution_count": 2,
   "id": "dd65678f-e699-44df-915b-4902409733ab",
   "metadata": {},
   "outputs": [],
   "source": [
    "import numpy as np"
   ]
  },
  {
   "cell_type": "code",
   "execution_count": 3,
   "id": "b669155a-4750-4b8d-ae9f-019bcb9a5c2c",
   "metadata": {},
   "outputs": [],
   "source": [
    "a = np.arange(21) # 21개 만듦"
   ]
  },
  {
   "cell_type": "code",
   "execution_count": 4,
   "id": "a05e63ea-2fce-43ad-b1d0-a02505bd4812",
   "metadata": {},
   "outputs": [
    {
     "data": {
      "text/plain": [
       "array([ 0,  1,  2,  3,  4,  5,  6,  7,  8,  9, 10, 11, 12, 13, 14, 15, 16,\n",
       "       17, 18, 19, 20])"
      ]
     },
     "execution_count": 4,
     "metadata": {},
     "output_type": "execute_result"
    }
   ],
   "source": [
    "a"
   ]
  },
  {
   "cell_type": "code",
   "execution_count": 5,
   "id": "bdcf9733-b449-4fb9-97d6-3024d74f7767",
   "metadata": {},
   "outputs": [],
   "source": [
    "b = a.reshape(3,7)   # 3행 7열 행렬 만듦"
   ]
  },
  {
   "cell_type": "code",
   "execution_count": 6,
   "id": "075a9f94-1840-4553-83df-519cc016a470",
   "metadata": {},
   "outputs": [
    {
     "data": {
      "text/plain": [
       "array([[ 0,  1,  2,  3,  4,  5,  6],\n",
       "       [ 7,  8,  9, 10, 11, 12, 13],\n",
       "       [14, 15, 16, 17, 18, 19, 20]])"
      ]
     },
     "execution_count": 6,
     "metadata": {},
     "output_type": "execute_result"
    }
   ],
   "source": [
    "b"
   ]
  },
  {
   "cell_type": "code",
   "execution_count": 7,
   "id": "27f0979a-3215-471d-8c60-f9e315da4013",
   "metadata": {},
   "outputs": [
    {
     "data": {
      "text/plain": [
       "(21,)"
      ]
     },
     "execution_count": 7,
     "metadata": {},
     "output_type": "execute_result"
    }
   ],
   "source": [
    "a.shape # 1행 21열"
   ]
  },
  {
   "cell_type": "code",
   "execution_count": 8,
   "id": "d0b70182-22a6-40e0-9eba-cbd0101d234c",
   "metadata": {},
   "outputs": [
    {
     "data": {
      "text/plain": [
       "(3, 7)"
      ]
     },
     "execution_count": 8,
     "metadata": {},
     "output_type": "execute_result"
    }
   ],
   "source": [
    "b.shape # 3행 7열"
   ]
  },
  {
   "cell_type": "code",
   "execution_count": 9,
   "id": "e90a52bc-e41f-4362-b7a5-ec45f0388989",
   "metadata": {},
   "outputs": [
    {
     "data": {
      "text/plain": [
       "1"
      ]
     },
     "execution_count": 9,
     "metadata": {},
     "output_type": "execute_result"
    }
   ],
   "source": [
    "a.ndim"
   ]
  },
  {
   "cell_type": "code",
   "execution_count": 10,
   "id": "e3530961-fe8d-40a6-94c3-f8a0364d7e8c",
   "metadata": {},
   "outputs": [
    {
     "data": {
      "text/plain": [
       "2"
      ]
     },
     "execution_count": 10,
     "metadata": {},
     "output_type": "execute_result"
    }
   ],
   "source": [
    "b.ndim # 차원 수 2"
   ]
  },
  {
   "cell_type": "code",
   "execution_count": 11,
   "id": "0ed7e2a8-0f54-4885-9b91-417a7bd71301",
   "metadata": {},
   "outputs": [
    {
     "data": {
      "text/plain": [
       "'int32'"
      ]
     },
     "execution_count": 11,
     "metadata": {},
     "output_type": "execute_result"
    }
   ],
   "source": [
    "a.dtype.name"
   ]
  },
  {
   "cell_type": "code",
   "execution_count": 12,
   "id": "f1d807ce-03b4-48ce-8d64-5744769b827c",
   "metadata": {},
   "outputs": [
    {
     "data": {
      "text/plain": [
       "numpy.ndarray"
      ]
     },
     "execution_count": 12,
     "metadata": {},
     "output_type": "execute_result"
    }
   ],
   "source": [
    "type(a)"
   ]
  },
  {
   "cell_type": "code",
   "execution_count": 13,
   "id": "33b77382-eb96-4287-a537-ce17eff37bee",
   "metadata": {},
   "outputs": [],
   "source": [
    "c = np.array( [ (1,2,3), (4, 5.5, 6) ] )"
   ]
  },
  {
   "cell_type": "code",
   "execution_count": 14,
   "id": "6a8463dd-c76d-4866-a1a9-2eab9f71a226",
   "metadata": {},
   "outputs": [
    {
     "data": {
      "text/plain": [
       "array([[1. , 2. , 3. ],\n",
       "       [4. , 5.5, 6. ]])"
      ]
     },
     "execution_count": 14,
     "metadata": {},
     "output_type": "execute_result"
    }
   ],
   "source": [
    "c     # 소수점 하나 들어가니까 자동으로 다 float으로 바뀌게 됨"
   ]
  },
  {
   "cell_type": "code",
   "execution_count": 15,
   "id": "b5309502-acc9-4831-b973-0bfc0fd8742d",
   "metadata": {},
   "outputs": [
    {
     "data": {
      "text/plain": [
       "dtype('float64')"
      ]
     },
     "execution_count": 15,
     "metadata": {},
     "output_type": "execute_result"
    }
   ],
   "source": [
    "c.dtype   # 소수점 하나 들어가니까 자동으로 다 float으로 바뀌게 됨"
   ]
  },
  {
   "cell_type": "code",
   "execution_count": 16,
   "id": "ed42c06d-09fa-4e4f-927a-c2b5f79e5522",
   "metadata": {},
   "outputs": [],
   "source": [
    "d = np.array( [ (1, 2, 3), (4, 5.5, 6) ], dtype = int )    # 타입을 int로 바꿈"
   ]
  },
  {
   "cell_type": "code",
   "execution_count": 17,
   "id": "663e30eb-28eb-4496-b9bd-d9b950923861",
   "metadata": {},
   "outputs": [
    {
     "data": {
      "text/plain": [
       "array([[1, 2, 3],\n",
       "       [4, 5, 6]])"
      ]
     },
     "execution_count": 17,
     "metadata": {},
     "output_type": "execute_result"
    }
   ],
   "source": [
    "d"
   ]
  },
  {
   "cell_type": "code",
   "execution_count": 18,
   "id": "4cf7e25a-ed8b-4d52-b659-4032a2d5b146",
   "metadata": {},
   "outputs": [
    {
     "data": {
      "text/plain": [
       "array([[0., 0., 0., 0., 0.],\n",
       "       [0., 0., 0., 0., 0.],\n",
       "       [0., 0., 0., 0., 0.]])"
      ]
     },
     "execution_count": 18,
     "metadata": {},
     "output_type": "execute_result"
    }
   ],
   "source": [
    "np.zeros( (3, 5) ) "
   ]
  },
  {
   "cell_type": "code",
   "execution_count": 19,
   "id": "5998ec8c-8feb-4562-8012-f25850bf2eb3",
   "metadata": {},
   "outputs": [
    {
     "data": {
      "text/plain": [
       "array([[1., 1., 1., 1., 1.],\n",
       "       [1., 1., 1., 1., 1.],\n",
       "       [1., 1., 1., 1., 1.]])"
      ]
     },
     "execution_count": 19,
     "metadata": {},
     "output_type": "execute_result"
    }
   ],
   "source": [
    "np.ones( (3, 5) )                 "
   ]
  },
  {
   "cell_type": "code",
   "execution_count": 20,
   "id": "a786d4ca-4873-4eaa-ac15-40ef3b2683e6",
   "metadata": {},
   "outputs": [
    {
     "data": {
      "text/plain": [
       "array([[777.7, 777.7, 777.7],\n",
       "       [777.7, 777.7, 777.7],\n",
       "       [777.7, 777.7, 777.7]])"
      ]
     },
     "execution_count": 20,
     "metadata": {},
     "output_type": "execute_result"
    }
   ],
   "source": [
    "np.full( (3,3), 777.7 )"
   ]
  },
  {
   "cell_type": "code",
   "execution_count": 21,
   "id": "2452a5f9-f9d8-40e2-848f-5face21498ef",
   "metadata": {},
   "outputs": [
    {
     "data": {
      "text/plain": [
       "array([ 1,  3,  5,  7,  9, 11, 13, 15, 17, 19])"
      ]
     },
     "execution_count": 21,
     "metadata": {},
     "output_type": "execute_result"
    }
   ],
   "source": [
    "np.arange(1, 20, 2)"
   ]
  },
  {
   "cell_type": "code",
   "execution_count": 22,
   "id": "76a02303-6b45-472e-866b-73ab5efb9970",
   "metadata": {},
   "outputs": [
    {
     "data": {
      "text/plain": [
       "array([ 1. ,  2.9,  4.8,  6.7,  8.6, 10.5, 12.4, 14.3, 16.2, 18.1])"
      ]
     },
     "execution_count": 22,
     "metadata": {},
     "output_type": "execute_result"
    }
   ],
   "source": [
    "np.arange(1, 20, 1.9)"
   ]
  },
  {
   "cell_type": "code",
   "execution_count": 23,
   "id": "ca9aa03c-4e6d-4990-9fa4-64d8af1aaec0",
   "metadata": {},
   "outputs": [
    {
     "data": {
      "text/plain": [
       "array([ 0.,  1.,  2.,  3.,  4.,  5.,  6.,  7.,  8.,  9., 10.])"
      ]
     },
     "execution_count": 23,
     "metadata": {},
     "output_type": "execute_result"
    }
   ],
   "source": [
    "np.linspace(0, 10, 11)"
   ]
  },
  {
   "cell_type": "code",
   "execution_count": 24,
   "id": "25542e7a-6705-4b64-9c38-5ee4032d7f6d",
   "metadata": {},
   "outputs": [
    {
     "data": {
      "text/plain": [
       "array([ 0.,  1.,  2.,  3.,  4.,  5.,  6.,  7.,  8.,  9., 10.])"
      ]
     },
     "execution_count": 24,
     "metadata": {},
     "output_type": "execute_result"
    }
   ],
   "source": [
    "np.linspace(0, 10, 11)"
   ]
  },
  {
   "cell_type": "code",
   "execution_count": 34,
   "id": "28d60e81-b8c9-435d-bb60-1dec58bb73b6",
   "metadata": {},
   "outputs": [
    {
     "data": {
      "text/plain": [
       "array([ 0.        ,  3.33333333,  6.66666667, 10.        ])"
      ]
     },
     "execution_count": 34,
     "metadata": {},
     "output_type": "execute_result"
    }
   ],
   "source": [
    "np.linspace(0, 10, 4)"
   ]
  },
  {
   "cell_type": "code",
   "execution_count": 37,
   "id": "a055e518-af1a-4883-960c-4c3de09c64ad",
   "metadata": {},
   "outputs": [
    {
     "data": {
      "text/plain": [
       "array([1, 2, 3, 4])"
      ]
     },
     "execution_count": 37,
     "metadata": {},
     "output_type": "execute_result"
    }
   ],
   "source": [
    "e = np.array( [1, 2, 3, 4] )\n",
    "e"
   ]
  },
  {
   "cell_type": "code",
   "execution_count": 36,
   "id": "57dbe813-9da0-4001-9821-434b9475f2c4",
   "metadata": {},
   "outputs": [
    {
     "data": {
      "text/plain": [
       "array([0, 1, 2, 3])"
      ]
     },
     "execution_count": 36,
     "metadata": {},
     "output_type": "execute_result"
    }
   ],
   "source": [
    "f = np.arange(4)\n",
    "f"
   ]
  },
  {
   "cell_type": "code",
   "execution_count": 38,
   "id": "1d232d9c-d255-4e90-aa52-0e8f867b78c6",
   "metadata": {},
   "outputs": [
    {
     "data": {
      "text/plain": [
       "array([ 0,  2,  6, 12])"
      ]
     },
     "execution_count": 38,
     "metadata": {},
     "output_type": "execute_result"
    }
   ],
   "source": [
    "e*f"
   ]
  },
  {
   "cell_type": "code",
   "execution_count": 39,
   "id": "a07398f0-c725-44e3-8328-83a87adb098f",
   "metadata": {},
   "outputs": [
    {
     "data": {
      "text/plain": [
       "array([1, 1, 1, 1])"
      ]
     },
     "execution_count": 39,
     "metadata": {},
     "output_type": "execute_result"
    }
   ],
   "source": [
    "e-f"
   ]
  },
  {
   "cell_type": "code",
   "execution_count": 40,
   "id": "9f248152-f803-44f1-afbe-f66962296f98",
   "metadata": {},
   "outputs": [
    {
     "data": {
      "text/plain": [
       "array([ 1,  8, 27, 64], dtype=int32)"
      ]
     },
     "execution_count": 40,
     "metadata": {},
     "output_type": "execute_result"
    }
   ],
   "source": [
    "e**3 #3제곱"
   ]
  },
  {
   "cell_type": "code",
   "execution_count": null,
   "id": "9d314403-5e8b-454f-a6b9-d5f6903d036c",
   "metadata": {},
   "outputs": [],
   "source": []
  }
 ],
 "metadata": {
  "kernelspec": {
   "display_name": "Python 3 (ipykernel)",
   "language": "python",
   "name": "python3"
  },
  "language_info": {
   "codemirror_mode": {
    "name": "ipython",
    "version": 3
   },
   "file_extension": ".py",
   "mimetype": "text/x-python",
   "name": "python",
   "nbconvert_exporter": "python",
   "pygments_lexer": "ipython3",
   "version": "3.9.16"
  }
 },
 "nbformat": 4,
 "nbformat_minor": 5
}
