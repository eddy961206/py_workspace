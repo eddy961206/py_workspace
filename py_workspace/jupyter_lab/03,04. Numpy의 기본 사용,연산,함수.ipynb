{
 "cells": [
  {
   "cell_type": "code",
   "execution_count": 1,
   "id": "e59abbe1-d60f-443f-837a-1516ce4fed55",
   "metadata": {},
   "outputs": [],
   "source": [
    "import numpy as np"
   ]
  },
  {
   "cell_type": "code",
   "execution_count": 7,
   "id": "271fde61-24c7-4602-9c8c-ad89777b3ac3",
   "metadata": {},
   "outputs": [
    {
     "data": {
      "text/plain": [
       "array([1, 2, 3])"
      ]
     },
     "execution_count": 7,
     "metadata": {},
     "output_type": "execute_result"
    }
   ],
   "source": [
    "list_data = [1, 2, 3]\n",
    "array = np.array(list_data)   #배열을 array() 안에 넣으면 행렬로 변환됨\n",
    "array"
   ]
  },
  {
   "cell_type": "code",
   "execution_count": 10,
   "id": "f8183ced-0cce-445c-8c57-a284e838d758",
   "metadata": {},
   "outputs": [
    {
     "name": "stdout",
     "output_type": "stream",
     "text": [
      "3\n",
      "int32\n"
     ]
    }
   ],
   "source": [
    "print(array.size)   # size는 원소의 갯수.  shape는 차원. (2,1) 이런식\n",
    "print(array.dtype)"
   ]
  },
  {
   "cell_type": "code",
   "execution_count": 11,
   "id": "dc9fb5e7-33c1-4e1e-8822-b8397ccdec4e",
   "metadata": {},
   "outputs": [
    {
     "data": {
      "text/plain": [
       "3"
      ]
     },
     "execution_count": 11,
     "metadata": {},
     "output_type": "execute_result"
    }
   ],
   "source": [
    "array[2] #list와 마찬가지로 해당 인덱스로도 가져올 수 있음"
   ]
  },
  {
   "cell_type": "code",
   "execution_count": 17,
   "id": "dd911524-e734-4ad0-a0e8-7362d3dd9e06",
   "metadata": {},
   "outputs": [
    {
     "name": "stdout",
     "output_type": "stream",
     "text": [
      "[0 1 2 3]\n"
     ]
    },
    {
     "data": {
      "text/plain": [
       "array([0, 1, 2, 3])"
      ]
     },
     "execution_count": 17,
     "metadata": {},
     "output_type": "execute_result"
    }
   ],
   "source": [
    "array1 = np.arange(4)   # 0<=  <4 까지 정수를 집어넣겠다\n",
    "print(array1)\n",
    "array1"
   ]
  },
  {
   "cell_type": "code",
   "execution_count": 23,
   "id": "5e21b242-0737-43ef-bd75-3f0118902d17",
   "metadata": {},
   "outputs": [],
   "source": [
    "array2 = np.zeros((4,4), dtype = float)"
   ]
  },
  {
   "cell_type": "code",
   "execution_count": 24,
   "id": "25d801e3-cc5b-4e0d-bc6e-df468df63828",
   "metadata": {},
   "outputs": [
    {
     "data": {
      "text/plain": [
       "array([[0., 0., 0., 0.],\n",
       "       [0., 0., 0., 0.],\n",
       "       [0., 0., 0., 0.],\n",
       "       [0., 0., 0., 0.]])"
      ]
     },
     "execution_count": 24,
     "metadata": {},
     "output_type": "execute_result"
    }
   ],
   "source": [
    "array2"
   ]
  },
  {
   "cell_type": "code",
   "execution_count": null,
   "id": "e3ca524f-8f54-408b-b18b-78b131c96000",
   "metadata": {},
   "outputs": [],
   "source": [
    "array3 = np.ones((3, 3), dtype = str)"
   ]
  },
  {
   "cell_type": "code",
   "execution_count": 32,
   "id": "9b313ca3-d612-40aa-90b0-c0870553eedf",
   "metadata": {},
   "outputs": [
    {
     "data": {
      "text/plain": [
       "array([['1', '1', '1'],\n",
       "       ['1', '1', '1'],\n",
       "       ['1', '1', '1']], dtype='<U1')"
      ]
     },
     "execution_count": 32,
     "metadata": {},
     "output_type": "execute_result"
    }
   ],
   "source": [
    "array3"
   ]
  },
  {
   "cell_type": "code",
   "execution_count": 37,
   "id": "fa491a92-9af2-459c-a475-7aeab27892d4",
   "metadata": {
    "tags": []
   },
   "outputs": [],
   "source": [
    "# 0부터 9까지 랜덤하게 초기화된 배열 만들기"
   ]
  },
  {
   "cell_type": "code",
   "execution_count": 38,
   "id": "969b5a37-dcc5-4bac-9811-f982c2ea3fe1",
   "metadata": {},
   "outputs": [],
   "source": [
    "array4 = np.random.randint(  0, 10, (3, 3)  )   # 0 <= x < 10 중 3행3열로 랜덤으로 "
   ]
  },
  {
   "cell_type": "code",
   "execution_count": 39,
   "id": "33db0165-5576-4fbd-9490-6517f65f3bd4",
   "metadata": {},
   "outputs": [
    {
     "data": {
      "text/plain": [
       "array([[7, 9, 8],\n",
       "       [8, 3, 0],\n",
       "       [0, 3, 2]])"
      ]
     },
     "execution_count": 39,
     "metadata": {},
     "output_type": "execute_result"
    }
   ],
   "source": [
    "array4"
   ]
  },
  {
   "cell_type": "code",
   "execution_count": 41,
   "id": "487876c7-6b3c-4070-81d7-e5999ea75fde",
   "metadata": {},
   "outputs": [],
   "source": [
    "# 평균 0, 표준편차가 1인 표준정규분표를 띄는 3X3 배열 만들기"
   ]
  },
  {
   "cell_type": "code",
   "execution_count": 85,
   "id": "89db498c-4cc6-452f-a7fb-3de2d4757bf9",
   "metadata": {},
   "outputs": [],
   "source": [
    "array5 = np.random.normal(   0, 1, (3, 3)   )"
   ]
  },
  {
   "cell_type": "code",
   "execution_count": 86,
   "id": "5134f30d-ed3a-40f9-96fb-e1ff42aa5394",
   "metadata": {},
   "outputs": [
    {
     "data": {
      "text/plain": [
       "array([[ 0.28086134, -0.92097427,  0.94897102],\n",
       "       [ 0.54987788,  0.73239353, -1.1946853 ],\n",
       "       [ 0.664437  , -0.014584  , -0.41574398]])"
      ]
     },
     "execution_count": 86,
     "metadata": {},
     "output_type": "execute_result"
    }
   ],
   "source": [
    "array5"
   ]
  },
  {
   "cell_type": "markdown",
   "id": "25a5d5f7-b15c-441e-bba9-97a06404ddef",
   "metadata": {},
   "source": [
    "\n",
    "배열 합치기 (같은 dimension끼리만 가능) (concatenate())"
   ]
  },
  {
   "cell_type": "code",
   "execution_count": 51,
   "id": "17984383-3788-48a1-85a4-e9d4fae13fcb",
   "metadata": {
    "tags": []
   },
   "outputs": [],
   "source": [
    "array1 = np.array( [1, 2, 3] )"
   ]
  },
  {
   "cell_type": "code",
   "execution_count": 52,
   "id": "59041142-3f1c-4b15-96d6-7099b3f498cd",
   "metadata": {
    "tags": []
   },
   "outputs": [],
   "source": [
    "array2 = np.array( [4, 5, 6] )"
   ]
  },
  {
   "cell_type": "code",
   "execution_count": 54,
   "id": "841635b0-122a-4813-8727-cfd923d7ee71",
   "metadata": {
    "tags": []
   },
   "outputs": [],
   "source": [
    "array3 = np.concatenate( [array1, array2] )   # array([1, 2, 3, 4, 5, 6])"
   ]
  },
  {
   "cell_type": "code",
   "execution_count": 55,
   "id": "05056e0a-0834-4396-ace5-327ba2d2389d",
   "metadata": {},
   "outputs": [
    {
     "data": {
      "text/plain": [
       "array([1, 2, 3, 4, 5, 6])"
      ]
     },
     "execution_count": 55,
     "metadata": {},
     "output_type": "execute_result"
    }
   ],
   "source": [
    "array3"
   ]
  },
  {
   "cell_type": "code",
   "execution_count": 56,
   "id": "46d3f5bf-4ab1-48b3-9b1c-60a9e5fd48d3",
   "metadata": {},
   "outputs": [
    {
     "data": {
      "text/plain": [
       "(6,)"
      ]
     },
     "execution_count": 56,
     "metadata": {},
     "output_type": "execute_result"
    }
   ],
   "source": [
    "array3.shape"
   ]
  },
  {
   "cell_type": "code",
   "execution_count": null,
   "id": "f99d5e59-9778-4b26-be8f-29c43de947c6",
   "metadata": {},
   "outputs": [],
   "source": []
  },
  {
   "cell_type": "markdown",
   "id": "55f3a062-2483-4271-ba16-d76ff1aa6701",
   "metadata": {},
   "source": [
    "배열 바꾸기 (reshape)"
   ]
  },
  {
   "cell_type": "code",
   "execution_count": 57,
   "id": "c01185ea-73a0-4573-8ed0-2a9e90944b38",
   "metadata": {},
   "outputs": [],
   "source": [
    "array1= np.array( [1, 2, 3, 4] )"
   ]
  },
  {
   "cell_type": "code",
   "execution_count": 58,
   "id": "861e761d-f52f-4aa5-8526-993614c4f643",
   "metadata": {},
   "outputs": [],
   "source": [
    "array2 = array1.reshape( (2, 2) )"
   ]
  },
  {
   "cell_type": "code",
   "execution_count": 59,
   "id": "2d478555-d955-4845-80d3-7f2c7f27e437",
   "metadata": {},
   "outputs": [
    {
     "data": {
      "text/plain": [
       "array([[1, 2],\n",
       "       [3, 4]])"
      ]
     },
     "execution_count": 59,
     "metadata": {},
     "output_type": "execute_result"
    }
   ],
   "source": [
    "array2"
   ]
  },
  {
   "cell_type": "code",
   "execution_count": 60,
   "id": "ffff1fc5-01d3-4abf-b3e6-9ed159ad3438",
   "metadata": {},
   "outputs": [],
   "source": [
    "array1 = np.arange(4).reshape(1, 4)"
   ]
  },
  {
   "cell_type": "code",
   "execution_count": 61,
   "id": "9f18cfb5-22ad-4838-adf0-da328526d92f",
   "metadata": {},
   "outputs": [
    {
     "data": {
      "text/plain": [
       "array([[0, 1, 2, 3]])"
      ]
     },
     "execution_count": 61,
     "metadata": {},
     "output_type": "execute_result"
    }
   ],
   "source": [
    "array1"
   ]
  },
  {
   "cell_type": "code",
   "execution_count": 62,
   "id": "d90dc31c-c3f7-45fa-93dd-fae666ca4a84",
   "metadata": {},
   "outputs": [],
   "source": [
    "array2 = np.arange(8).reshape(2, 4)"
   ]
  },
  {
   "cell_type": "code",
   "execution_count": 63,
   "id": "760d265e-63d5-4f68-96bc-929252468ce8",
   "metadata": {},
   "outputs": [
    {
     "data": {
      "text/plain": [
       "array([[0, 1, 2, 3],\n",
       "       [4, 5, 6, 7]])"
      ]
     },
     "execution_count": 63,
     "metadata": {},
     "output_type": "execute_result"
    }
   ],
   "source": [
    "array2"
   ]
  },
  {
   "cell_type": "code",
   "execution_count": 67,
   "id": "80d7c4a4-69c2-4d40-86ed-1b647d634530",
   "metadata": {},
   "outputs": [],
   "source": [
    "array3 = np.concatenate( [array1, array2] , axis = 0)   # 행렬 세로로 합치기"
   ]
  },
  {
   "cell_type": "code",
   "execution_count": 68,
   "id": "3db4be4f-5d59-4f2f-9941-0bdaee2a16ae",
   "metadata": {},
   "outputs": [
    {
     "data": {
      "text/plain": [
       "array([[0, 1, 2, 3],\n",
       "       [0, 1, 2, 3],\n",
       "       [4, 5, 6, 7]])"
      ]
     },
     "execution_count": 68,
     "metadata": {},
     "output_type": "execute_result"
    }
   ],
   "source": [
    "array3"
   ]
  },
  {
   "cell_type": "code",
   "execution_count": null,
   "id": "f810ee12-4f6a-4be4-89bb-7f6445b9b0f3",
   "metadata": {},
   "outputs": [],
   "source": []
  },
  {
   "cell_type": "markdown",
   "id": "0f45f7aa-f100-4ac3-8d8b-78f291a8239c",
   "metadata": {},
   "source": [
    "배열 나누기(split)"
   ]
  },
  {
   "cell_type": "code",
   "execution_count": 69,
   "id": "f3959edb-d61b-43ba-9987-e0e3b49e9776",
   "metadata": {},
   "outputs": [],
   "source": [
    "array = np.arange(8).reshape(2, 4)"
   ]
  },
  {
   "cell_type": "code",
   "execution_count": 77,
   "id": "25dccb93-a32b-4a13-8752-14cd3bdc545c",
   "metadata": {},
   "outputs": [],
   "source": [
    "left, right = np.split(array, [2], axis = 1)  # axis = 1 이면 열(세로)로. 즉, 3번째 열을 기준으로 쪼갠다"
   ]
  },
  {
   "cell_type": "code",
   "execution_count": 78,
   "id": "5db706a2-747d-4107-b365-47859f54ad08",
   "metadata": {},
   "outputs": [
    {
     "data": {
      "text/plain": [
       "array([[0, 1, 2, 3],\n",
       "       [4, 5, 6, 7]])"
      ]
     },
     "execution_count": 78,
     "metadata": {},
     "output_type": "execute_result"
    }
   ],
   "source": [
    "array"
   ]
  },
  {
   "cell_type": "code",
   "execution_count": 79,
   "id": "c012df15-8f84-4994-ac01-e04ea4c8645c",
   "metadata": {},
   "outputs": [
    {
     "data": {
      "text/plain": [
       "array([[0, 1],\n",
       "       [4, 5]])"
      ]
     },
     "execution_count": 79,
     "metadata": {},
     "output_type": "execute_result"
    }
   ],
   "source": [
    "left"
   ]
  },
  {
   "cell_type": "code",
   "execution_count": 80,
   "id": "fcb282f9-b739-4f82-bf4a-c500696fbb5e",
   "metadata": {},
   "outputs": [
    {
     "data": {
      "text/plain": [
       "array([[2, 3],\n",
       "       [6, 7]])"
      ]
     },
     "execution_count": 80,
     "metadata": {},
     "output_type": "execute_result"
    }
   ],
   "source": [
    "right"
   ]
  },
  {
   "cell_type": "code",
   "execution_count": 81,
   "id": "43d00df8-c352-45bf-9074-d3bd0f4aabea",
   "metadata": {},
   "outputs": [
    {
     "data": {
      "text/plain": [
       "(2, 2)"
      ]
     },
     "execution_count": 81,
     "metadata": {},
     "output_type": "execute_result"
    }
   ],
   "source": [
    "left.shape"
   ]
  },
  {
   "cell_type": "code",
   "execution_count": 82,
   "id": "fa373709-be7a-457f-94ea-bae417aa87c9",
   "metadata": {},
   "outputs": [
    {
     "data": {
      "text/plain": [
       "(2, 2)"
      ]
     },
     "execution_count": 82,
     "metadata": {},
     "output_type": "execute_result"
    }
   ],
   "source": [
    "right.shape"
   ]
  },
  {
   "cell_type": "code",
   "execution_count": null,
   "id": "615ac670-021d-41cf-b94e-e85e05384126",
   "metadata": {},
   "outputs": [],
   "source": []
  },
  {
   "cell_type": "markdown",
   "id": "20254caa-0f43-46be-ba9f-c70c339537a5",
   "metadata": {
    "tags": []
   },
   "source": [
    "# Numpy의 연산과 함수"
   ]
  },
  {
   "cell_type": "code",
   "execution_count": 87,
   "id": "0964eed1-5a05-4484-a447-c38c1cfd9788",
   "metadata": {},
   "outputs": [
    {
     "name": "stdout",
     "output_type": "stream",
     "text": [
      "[[30 10]\n",
      " [30 90]]\n"
     ]
    }
   ],
   "source": [
    "array = np.random.randint(1, 10, size=4).reshape(2, 2)\n",
    "result_array = array * 10\n",
    "print(result_array)"
   ]
  },
  {
   "cell_type": "code",
   "execution_count": 88,
   "id": "8a44718e-ddeb-4626-971f-fc4f6a72b477",
   "metadata": {},
   "outputs": [
    {
     "name": "stdout",
     "output_type": "stream",
     "text": [
      "[[0 2]\n",
      " [2 4]]\n"
     ]
    }
   ],
   "source": [
    "array1 = np.arange(4).reshape(2, 2)\n",
    "array2 = np.arange(2)\n",
    "array3 = array1 + array2\n",
    "\n",
    "print(array3)"
   ]
  },
  {
   "cell_type": "code",
   "execution_count": 95,
   "id": "7bdd32d4-077a-4be1-866e-7302b3ab74dc",
   "metadata": {},
   "outputs": [
    {
     "name": "stdout",
     "output_type": "stream",
     "text": [
      "[[0 1 2 3]\n",
      " [4 5 6 7]\n",
      " [0 1 2 3]\n",
      " [4 5 6 7]]\n",
      "[[0]\n",
      " [1]\n",
      " [2]\n",
      " [3]]\n",
      "[[ 0  1  2  3]\n",
      " [ 5  6  7  8]\n",
      " [ 2  3  4  5]\n",
      " [ 7  8  9 10]]\n"
     ]
    }
   ],
   "source": [
    "array1 = np.arange(0, 8).reshape(2, 4)\n",
    "array2 = np.arange(0, 8).reshape(2, 4)\n",
    "array3 = np.concatenate([array1, array2], axis=0)\n",
    "array4 = np.arange(0, 4).reshape(4,1)\n",
    "print(array3)\n",
    "print(array4)\n",
    "print(array3 + array4)"
   ]
  },
  {
   "cell_type": "markdown",
   "id": "ab0e6f65-321b-4a46-a9f7-addb19910df6",
   "metadata": {
    "tags": []
   },
   "source": [
    "### 마스킹 연산 (각 원소를 체크하는 것)"
   ]
  },
  {
   "cell_type": "code",
   "execution_count": 97,
   "id": "baa1f576-a9b8-4fbd-a407-264d03ea584f",
   "metadata": {},
   "outputs": [
    {
     "name": "stdout",
     "output_type": "stream",
     "text": [
      "[[ 0  1  2  3]\n",
      " [ 4  5  6  7]\n",
      " [ 8  9 10 11]\n",
      " [12 13 14 15]]\n",
      "[[ True  True  True  True]\n",
      " [ True  True  True  True]\n",
      " [ True  True False False]\n",
      " [False False False False]]\n",
      "[[100 100 100 100]\n",
      " [100 100 100 100]\n",
      " [100 100  10  11]\n",
      " [ 12  13  14  15]]\n"
     ]
    }
   ],
   "source": [
    "array1 = np.arange(16).reshape(4, 4)\n",
    "print(array1)\n",
    "\n",
    "array2 = array1 < 10\n",
    "print(array2)\n",
    "\n",
    "array1[array2] = 100   # array1행렬의 원소들 중에 마스킹된 array2조건을 만족하는 애들만 (즉 true인 애들만) 100으로 바꾸겠다 \n",
    "print(array1)"
   ]
  },
  {
   "cell_type": "markdown",
   "id": "b1d9d114-9c09-4e14-bec8-fe7e9ebe4d21",
   "metadata": {},
   "source": [
    "### 집계 함수"
   ]
  },
  {
   "cell_type": "code",
   "execution_count": 98,
   "id": "dd9c3014-9472-4527-afe0-4796c5ee7e8a",
   "metadata": {},
   "outputs": [
    {
     "name": "stdout",
     "output_type": "stream",
     "text": [
      "최대값: 15\n",
      "최소값: 0\n",
      "합계: 120\n",
      "평균값: 7.5\n"
     ]
    }
   ],
   "source": [
    "array = np.arange(16).reshape(4, 4)\n",
    "\n",
    "print(\"최대값:\", np.max(array))\n",
    "print(\"최소값:\", np.min(array))\n",
    "print(\"합계:\", np.sum(array))\n",
    "print(\"평균값:\", np.mean(array))"
   ]
  },
  {
   "cell_type": "code",
   "execution_count": 99,
   "id": "becf8ff3-7fd3-4211-886e-a9aba75ed492",
   "metadata": {},
   "outputs": [
    {
     "name": "stdout",
     "output_type": "stream",
     "text": [
      "[[ 0  1  2  3]\n",
      " [ 4  5  6  7]\n",
      " [ 8  9 10 11]\n",
      " [12 13 14 15]]\n",
      "합계: [24 28 32 36]\n"
     ]
    }
   ],
   "source": [
    "array = np.arange(16).reshape(4, 4)\n",
    "\n",
    "print(array)\n",
    "print(\"합계:\", np.sum(array, axis=0))  #열에 대해서만 합계 구하기"
   ]
  },
  {
   "cell_type": "code",
   "execution_count": null,
   "id": "6db4bd55-b4b2-4681-ac9c-b380f3b70bd6",
   "metadata": {},
   "outputs": [],
   "source": []
  }
 ],
 "metadata": {
  "kernelspec": {
   "display_name": "Python 3 (ipykernel)",
   "language": "python",
   "name": "python3"
  },
  "language_info": {
   "codemirror_mode": {
    "name": "ipython",
    "version": 3
   },
   "file_extension": ".py",
   "mimetype": "text/x-python",
   "name": "python",
   "nbconvert_exporter": "python",
   "pygments_lexer": "ipython3",
   "version": "3.9.16"
  }
 },
 "nbformat": 4,
 "nbformat_minor": 5
}
